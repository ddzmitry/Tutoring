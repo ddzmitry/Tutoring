{
 "cells": [
  {
   "cell_type": "code",
   "execution_count": 109,
   "metadata": {},
   "outputs": [],
   "source": [
    "import time\n",
    "from splinter import Browser\n",
    "from bs4 import BeautifulSoup\n",
    "from selenium import webdriver\n",
    "def init_browser():\n",
    "    # @NOTE: Replace the path with your actual path to the chromedriver\n",
    "    # TODO: make sure to add your driver here     \n",
    "    executable_path = {\"executable_path\": r\"C:/Users/ddzmi/Desktop/chromedriver.exe\"}\n",
    "    return Browser(\"chrome\", **executable_path, headless=False)"
   ]
  },
  {
   "cell_type": "code",
   "execution_count": 87,
   "metadata": {
    "collapsed": true
   },
   "outputs": [],
   "source": [
    "\n",
    "def init_browser():\n",
    "    # @NOTE: Replace the path with your actual path to the chromedriver\n",
    "    executable_path = {\"executable_path\": r\"C:/Users/ddzmi/Desktop/chromedriver.exe\"}\n",
    "    return Browser(\"chrome\", **executable_path, headless=False)\n"
   ]
  },
  {
   "cell_type": "code",
   "execution_count": 88,
   "metadata": {
    "collapsed": true
   },
   "outputs": [],
   "source": [
    "# this funciton will return a dictionary for image that we can use to store in mongo DB\n",
    "def img_portfolio(img_src,alt):\n",
    "    return {\n",
    "        \"src\": img_src,\n",
    "        \"alt\": alt\n",
    "    }\n",
    "    "
   ]
  },
  {
   "cell_type": "code",
   "execution_count": 93,
   "metadata": {},
   "outputs": [],
   "source": [
    "def scrape():\n",
    "    \n",
    "    # we can store image data in array \n",
    "    all_images = []\n",
    "    \n",
    "    browser = init_browser()\n",
    "    images_website = \"https://www.pexels.com/\"\n",
    "    browser.visit(images_website)\n",
    "    time.sleep(2)\n",
    "    html = browser.html\n",
    "    img_soup = BeautifulSoup(html, \"html.parser\")\n",
    "    container = img_soup.find(\"div\", {\"class\": \"photos\"})\n",
    "    all_Images = container.find_all('img')\n",
    "    for img in all_Images:\n",
    "        if(img.attrs.get('srcset')):\n",
    "                _altInfo = img.attrs.get('alt')\n",
    "                #will give an array of two src\n",
    "                sources = img.attrs.get('srcset').split(',')\n",
    "                # we need a smalest source of it                  \n",
    "                smal_img_src = sources[0].split(' ')[0]\n",
    "                # and we get our picture info in pretty dictionary                 \n",
    "                # print(img_portfolio(smal_img_src,_altInfo))\n",
    "                # Now we can append our data to array and return it \n",
    "                all_images.append(img_portfolio(smal_img_src,_altInfo))\n",
    "                data.append(img_portfolio(smal_img_src,_altInfo))\n",
    "    return all_images      \n",
    "\n",
    "\n"
   ]
  },
  {
   "cell_type": "code",
   "execution_count": 137,
   "metadata": {},
   "outputs": [
    {
     "data": {
      "text/html": [
       "<div>\n",
       "<style>\n",
       "    .dataframe thead tr:only-child th {\n",
       "        text-align: right;\n",
       "    }\n",
       "\n",
       "    .dataframe thead th {\n",
       "        text-align: left;\n",
       "    }\n",
       "\n",
       "    .dataframe tbody tr th {\n",
       "        vertical-align: top;\n",
       "    }\n",
       "</style>\n",
       "<table border=\"1\" class=\"dataframe\">\n",
       "  <thead>\n",
       "    <tr style=\"text-align: right;\">\n",
       "      <th></th>\n",
       "      <th>alt</th>\n",
       "      <th>src</th>\n",
       "    </tr>\n",
       "  </thead>\n",
       "  <tbody>\n",
       "    <tr>\n",
       "      <th>0</th>\n",
       "      <td>Man Wearing Jacket Standing on Wooden Docks Le...</td>\n",
       "      <td>https://images.pexels.com/photos/571169/pexels...</td>\n",
       "    </tr>\n",
       "    <tr>\n",
       "      <th>1</th>\n",
       "      <td>Books and Speakers on Black Wooden Shelf</td>\n",
       "      <td>https://images.pexels.com/photos/683929/pexels...</td>\n",
       "    </tr>\n",
       "    <tr>\n",
       "      <th>2</th>\n",
       "      <td>Photo of White Concrete Dock Bridge on Ocean</td>\n",
       "      <td>https://images.pexels.com/photos/905403/pexels...</td>\n",
       "    </tr>\n",
       "    <tr>\n",
       "      <th>3</th>\n",
       "      <td>Free stock photo of cold, nature, person, woman</td>\n",
       "      <td>https://images.pexels.com/photos/304648/pexels...</td>\n",
       "    </tr>\n",
       "    <tr>\n",
       "      <th>4</th>\n",
       "      <td>Man Wearing Green Full Zip Snow Jacket</td>\n",
       "      <td>https://images.pexels.com/photos/671557/pexels...</td>\n",
       "    </tr>\n",
       "    <tr>\n",
       "      <th>5</th>\n",
       "      <td>Free stock photo of city, dawn, sky, clouds</td>\n",
       "      <td>https://images.pexels.com/photos/356286/pexels...</td>\n",
       "    </tr>\n",
       "    <tr>\n",
       "      <th>6</th>\n",
       "      <td>Brown Cow Side View in Low Angle Photography</td>\n",
       "      <td>https://images.pexels.com/photos/231062/pexels...</td>\n",
       "    </tr>\n",
       "    <tr>\n",
       "      <th>7</th>\n",
       "      <td>Free stock photo of cold, sea, landscape, nature</td>\n",
       "      <td>https://images.pexels.com/photos/346908/pexels...</td>\n",
       "    </tr>\n",
       "    <tr>\n",
       "      <th>8</th>\n",
       "      <td>White Dressed Girl Across Black Mountains</td>\n",
       "      <td>https://images.pexels.com/photos/694629/pexels...</td>\n",
       "    </tr>\n",
       "    <tr>\n",
       "      <th>9</th>\n",
       "      <td>Person Wearing Blue Hoodie Near Body of Water</td>\n",
       "      <td>https://images.pexels.com/photos/433142/pexels...</td>\n",
       "    </tr>\n",
       "    <tr>\n",
       "      <th>10</th>\n",
       "      <td>Macbook Air Beside Notebook and Camera</td>\n",
       "      <td>https://images.pexels.com/photos/916335/pexels...</td>\n",
       "    </tr>\n",
       "    <tr>\n",
       "      <th>11</th>\n",
       "      <td>Bird Painting Wall</td>\n",
       "      <td>https://images.pexels.com/photos/730803/pexels...</td>\n",
       "    </tr>\n",
       "  </tbody>\n",
       "</table>\n",
       "</div>"
      ],
      "text/plain": [
       "                                                  alt  \\\n",
       "0   Man Wearing Jacket Standing on Wooden Docks Le...   \n",
       "1            Books and Speakers on Black Wooden Shelf   \n",
       "2        Photo of White Concrete Dock Bridge on Ocean   \n",
       "3     Free stock photo of cold, nature, person, woman   \n",
       "4              Man Wearing Green Full Zip Snow Jacket   \n",
       "5         Free stock photo of city, dawn, sky, clouds   \n",
       "6        Brown Cow Side View in Low Angle Photography   \n",
       "7    Free stock photo of cold, sea, landscape, nature   \n",
       "8           White Dressed Girl Across Black Mountains   \n",
       "9       Person Wearing Blue Hoodie Near Body of Water   \n",
       "10             Macbook Air Beside Notebook and Camera   \n",
       "11                                 Bird Painting Wall   \n",
       "\n",
       "                                                  src  \n",
       "0   https://images.pexels.com/photos/571169/pexels...  \n",
       "1   https://images.pexels.com/photos/683929/pexels...  \n",
       "2   https://images.pexels.com/photos/905403/pexels...  \n",
       "3   https://images.pexels.com/photos/304648/pexels...  \n",
       "4   https://images.pexels.com/photos/671557/pexels...  \n",
       "5   https://images.pexels.com/photos/356286/pexels...  \n",
       "6   https://images.pexels.com/photos/231062/pexels...  \n",
       "7   https://images.pexels.com/photos/346908/pexels...  \n",
       "8   https://images.pexels.com/photos/694629/pexels...  \n",
       "9   https://images.pexels.com/photos/433142/pexels...  \n",
       "10  https://images.pexels.com/photos/916335/pexels...  \n",
       "11  https://images.pexels.com/photos/730803/pexels...  "
      ]
     },
     "execution_count": 137,
     "metadata": {},
     "output_type": "execute_result"
    }
   ],
   "source": [
    "data = scrape()\n",
    "pd.DataFrame(data)"
   ]
  },
  {
   "cell_type": "code",
   "execution_count": null,
   "metadata": {
    "collapsed": true
   },
   "outputs": [],
   "source": []
  },
  {
   "cell_type": "code",
   "execution_count": null,
   "metadata": {
    "collapsed": true
   },
   "outputs": [],
   "source": []
  }
 ],
 "metadata": {
  "kernelspec": {
   "display_name": "Python 3",
   "language": "python",
   "name": "python3"
  },
  "language_info": {
   "codemirror_mode": {
    "name": "ipython",
    "version": 3
   },
   "file_extension": ".py",
   "mimetype": "text/x-python",
   "name": "python",
   "nbconvert_exporter": "python",
   "pygments_lexer": "ipython3",
   "version": "3.6.3"
  }
 },
 "nbformat": 4,
 "nbformat_minor": 2
}
